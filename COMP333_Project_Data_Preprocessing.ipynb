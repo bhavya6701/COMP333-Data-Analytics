{
  "nbformat": 4,
  "nbformat_minor": 0,
  "metadata": {
    "colab": {
      "provenance": [],
      "include_colab_link": true
    },
    "kernelspec": {
      "name": "python3",
      "display_name": "Python 3"
    },
    "language_info": {
      "name": "python"
    }
  },
  "cells": [
    {
      "cell_type": "markdown",
      "metadata": {
        "id": "view-in-github",
        "colab_type": "text"
      },
      "source": [
        "<a href=\"https://colab.research.google.com/github/bhavya6701/COMP333-Data-Analytics/blob/main/COMP333_Project_Data_Preprocessing.ipynb\" target=\"_parent\"><img src=\"https://colab.research.google.com/assets/colab-badge.svg\" alt=\"Open In Colab\"/></a>"
      ]
    },
    {
      "cell_type": "markdown",
      "source": [
        "# COMP 333 - Project - Video Games Analysis\n",
        "Team members:\n",
        "- Bhavya Manjibhai Ruparelia (40164863)\n",
        "- Devansh Nileshkumar Vaidya (40165987)\n",
        "- Yao Hua Shan (40130771)\n",
        "- Yash Patel (40175454)"
      ],
      "metadata": {
        "id": "7dgEOo-SSPrB"
      }
    },
    {
      "cell_type": "code",
      "source": [
        "# Download and store data\n",
        "!gdown 1MUKpW1AXDypllu5fJmTvYWZRBqUUWXc1\n",
        "!unzip content.zip"
      ],
      "metadata": {
        "id": "WYu_WkcNkd37"
      },
      "execution_count": null,
      "outputs": []
    },
    {
      "cell_type": "code",
      "execution_count": null,
      "metadata": {
        "id": "7u2z3IKESO9g"
      },
      "outputs": [],
      "source": [
        "# standard library imports\n",
        "import time\n",
        "import warnings\n",
        "\n",
        "# third-party imports\n",
        "import pandas as pd"
      ]
    }
  ]
}