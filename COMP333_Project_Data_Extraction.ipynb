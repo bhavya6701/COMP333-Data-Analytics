{
  "nbformat": 4,
  "nbformat_minor": 0,
  "metadata": {
    "colab": {
      "provenance": [],
      "include_colab_link": true
    },
    "kernelspec": {
      "name": "python3",
      "display_name": "Python 3"
    },
    "language_info": {
      "name": "python"
    }
  },
  "cells": [
    {
      "cell_type": "markdown",
      "metadata": {
        "id": "view-in-github",
        "colab_type": "text"
      },
      "source": [
        "<a href=\"https://colab.research.google.com/github/bhavya6701/COMP333-Data-Analytics/blob/main/COMP333_Project_Data_Extraction.ipynb\" target=\"_parent\"><img src=\"https://colab.research.google.com/assets/colab-badge.svg\" alt=\"Open In Colab\"/></a>"
      ]
    },
    {
      "cell_type": "markdown",
      "source": [
        "# COMP 333 - Project - Video Games Analysis\n",
        "Team members:\n",
        "- Bhavya Manjibhai Ruparelia (40164863)\n",
        "- Devansh Nileshkumar Vaidya (40165987)\n",
        "- Yao Hua Shan (40130771)\n",
        "- Yash Patel (40175454)"
      ],
      "metadata": {
        "id": "1eFq_t-Kzdy0"
      }
    },
    {
      "cell_type": "code",
      "source": [
        "# standard library imports\n",
        "import time\n",
        "import urllib\n",
        "from ssl import SSLError\n",
        "\n",
        "# third-party imports\n",
        "import pandas as pd\n",
        "import requests"
      ],
      "metadata": {
        "id": "G7AWcDJ1zpA-"
      },
      "execution_count": null,
      "outputs": []
    },
    {
      "cell_type": "code",
      "source": [
        "def get_request(url, parameters=None):\n",
        "    \"\"\"\n",
        "    Send a GET request to the specified URL with the specified parameters.\n",
        "    :param url: URL to send the request to\n",
        "    :param parameters: Parameters to send with the request\n",
        "    \"\"\"\n",
        "    try:\n",
        "        response = requests.get(url=url, params=parameters)\n",
        "    except SSLError as s:\n",
        "        print('SSL Error:', s)\n",
        "\n",
        "        for i in range(5, 0, -1):\n",
        "            print('\\rWaiting... ({})'.format(i), end='')\n",
        "            time.sleep(1)\n",
        "        print('\\rRetrying.' + ' ' * 10)\n",
        "\n",
        "        # Recursively try again\n",
        "        return get_request(url, parameters)\n",
        "\n",
        "    if response:\n",
        "        return response.json()\n",
        "    else:\n",
        "        # Response is none usually means too many requests. Wait and try again\n",
        "        print('No response, waiting 10 seconds...')\n",
        "        time.sleep(10)\n",
        "        print('Retrying.')\n",
        "        return get_request(url, parameters)"
      ],
      "metadata": {
        "id": "wmqo61AmFoXB"
      },
      "execution_count": null,
      "outputs": []
    },
    {
      "cell_type": "code",
      "source": [
        "# Import data from Kaggle - Steam dataset\n",
        "games_df = pd.read_csv('./games.csv')\n",
        "print(f'Total games: {games_df.shape[0]}')\n",
        "\n",
        "# Games released in 2023\n",
        "games_df = games_df[games_df['date_release'].str.contains('2023')]\n",
        "print(f'Games released in 2023: {games_df.shape[0]}')"
      ],
      "metadata": {
        "id": "NCEWCXBoqnia"
      },
      "execution_count": null,
      "outputs": []
    },
    {
      "cell_type": "code",
      "source": [
        "# Request reviews for each game\n",
        "reviews = pd.DataFrame()\n",
        "num_per_page = 100\n",
        "excluded = []\n",
        "index = 1\n",
        "for _, game in games_df.iterrows():\n",
        "    id = game['app_id']\n",
        "    title = game['title']\n",
        "    pages = 1\n",
        "    num_reviews = 0\n",
        "    cursor = '*'\n",
        "    prev_cursor = '_'\n",
        "    flag = True\n",
        "\n",
        "    # Traverse through all the pages of reviews\n",
        "    while cursor is not None or pages == 1:\n",
        "        url = f'https://store.steampowered.com/appreviews/{id}?json=1&filter=recent&cursor={cursor}&num_per_page={num_per_page}'\n",
        "        data = get_request(url)\n",
        "\n",
        "        # The games should have minimum of 200 reviews\n",
        "        if flag and data['query_summary']['total_reviews'] < 200:\n",
        "            break\n",
        "        flag = False\n",
        "\n",
        "        # If cursor is not changing, it means we have reached the end of the reviews\n",
        "        prev_cursor = cursor\n",
        "        cursor = None if data['cursor'] is None else urllib.parse.quote_plus(data['cursor'])\n",
        "        if cursor == prev_cursor:\n",
        "            break\n",
        "\n",
        "        # Add the reviews to the dataframe\n",
        "        new_reviews = pd.DataFrame(data['reviews'])\n",
        "        reviews = pd.concat([reviews, new_reviews])\n",
        "        num_reviews += new_reviews.shape[0]\n",
        "\n",
        "        pages += 1\n",
        "        if pages == 101:\n",
        "            break\n",
        "\n",
        "    if num_reviews < 200:\n",
        "        excluded.append(title)\n",
        "    else:\n",
        "        print(f'{index}. Pages Received: {pages} | Total reviews extracted for {title}: {num_reviews}')\n",
        "        index += 1\n",
        "\n",
        "print(f'Excluded {excluded} games (Not enough reviews < 200)')"
      ],
      "metadata": {
        "id": "hng2vzw3F-Rq"
      },
      "execution_count": null,
      "outputs": []
    },
    {
      "cell_type": "code",
      "source": [
        "# Print the number of games excluded released in the year 2023\n",
        "print(f'Number of games excluded: {len(excluded)}')"
      ],
      "metadata": {
        "id": "OJCrfcoSRxXd"
      },
      "execution_count": null,
      "outputs": []
    },
    {
      "cell_type": "code",
      "source": [
        "# Export the reviews dataframe to csv\n",
        "reviews.to_csv('./games_2023_reviews_.csv', index=False)"
      ],
      "metadata": {
        "id": "UVjmNlbFRytP"
      },
      "execution_count": null,
      "outputs": []
    }
  ]
}