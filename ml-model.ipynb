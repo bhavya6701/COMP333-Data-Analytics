{
 "cells": [
  {
   "cell_type": "markdown",
   "id": "00a13ada-511b-4c45-a412-d8ecd86824e7",
   "metadata": {},
   "source": [
    "# Machine Learning Model"
   ]
  },
  {
   "cell_type": "code",
   "execution_count": null,
   "id": "73f5db48-9bb1-4c31-b57a-3e68355cf4ca",
   "metadata": {
    "tags": []
   },
   "outputs": [],
   "source": [
    "# %conda install -c conda-forge awswrangler"
   ]
  },
  {
   "cell_type": "markdown",
   "id": "067ee9be-3f09-431d-9e06-dd91f4b0934b",
   "metadata": {},
   "source": [
    "### Imports"
   ]
  },
  {
   "cell_type": "code",
   "execution_count": null,
   "id": "dd0106b4-47c9-4391-893d-ccb99cf13fd9",
   "metadata": {
    "tags": []
   },
   "outputs": [],
   "source": [
    "import pandas as pd\n",
    "import torch\n",
    "import boto3\n",
    "import awswrangler as wr\n",
    "import warnings\n",
    "\n",
    "warnings.filterwarnings(\"ignore\")"
   ]
  },
  {
   "cell_type": "markdown",
   "id": "99a501f3-6a95-4087-bab1-ba5df30a2b71",
   "metadata": {},
   "source": [
    "### Reading Processed data"
   ]
  },
  {
   "cell_type": "code",
   "execution_count": null,
   "id": "defcaa66-b5ce-4ea5-bf96-f2b7a54d8b5b",
   "metadata": {
    "tags": []
   },
   "outputs": [],
   "source": [
    "source_uris = ['s3://comp333-data/processed_data/combined/run-1702446295691-part-r-00000.gz', \n",
    "              's3://comp333-data/processed_data/combined/run-1702446295691-part-r-00001.gz', \n",
    "              's3://comp333-data/processed_data/combined/run-1702446295691-part-r-00002.gz']\n",
    "dfs = wr.s3.read_json(path=source_uris, chunksize=1000, lines=True)\n",
    "df = pd.concat(dfs)"
   ]
  },
  {
   "cell_type": "code",
   "execution_count": null,
   "id": "fc6744a1-c50f-4c3f-aea1-74cbb0c7d025",
   "metadata": {
    "tags": []
   },
   "outputs": [],
   "source": [
    "print(df.head())"
   ]
  },
  {
   "cell_type": "markdown",
   "id": "e18c0e81-be73-4c68-b06b-ae4b48fd175a",
   "metadata": {},
   "source": [
    "### Creating ML Model"
   ]
  },
  {
   "cell_type": "code",
   "execution_count": null,
   "id": "4f58646b-b9a2-4d99-8a09-bde5560a59a1",
   "metadata": {},
   "outputs": [],
   "source": [
    "# Create a model class\n",
    "class Model(torch.nn.Module):\n",
    "    def __init__(self):\n",
    "        super(Model, self).__init__()\n",
    "        self.linear = torch.nn.Linear(4, 1)  # One in and one out\n",
    "\n",
    "    def forward(self, x):\n",
    "        y_pred = torch.sigmoid(self.linear(x))\n",
    "        return y_pred"
   ]
  }
 ],
 "metadata": {
  "kernelspec": {
   "name": "python3",
   "language": "python",
   "display_name": "Python 3 (ipykernel)"
  },
  "language_info": {
   "codemirror_mode": {
    "name": "ipython",
    "version": 3
   },
   "file_extension": ".py",
   "mimetype": "text/x-python",
   "name": "python",
   "nbconvert_exporter": "python",
   "pygments_lexer": "ipython3",
   "version": "3.10.13"
  }
 },
 "nbformat": 4,
 "nbformat_minor": 5
}
